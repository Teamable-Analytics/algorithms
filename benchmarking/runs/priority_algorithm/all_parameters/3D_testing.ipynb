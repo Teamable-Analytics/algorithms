{
 "cells": [
  {
   "cell_type": "code",
   "execution_count": null,
   "id": "initial_id",
   "metadata": {
    "collapsed": true,
    "is_executing": true
   },
   "outputs": [],
   "source": [
    "\n",
    "# creating 3d plot using matplotlib \n",
    "# in python\n",
    " \n",
    "# for creating a responsive plot\n",
    "%matplotlib widget\n",
    " \n",
    "# importing required libraries\n",
    "from mpl_toolkits.mplot3d import Axes3D\n",
    "import matplotlib.pyplot as plt\n",
    " \n",
    "# creating random dataset\n",
    "xs = [14, 24, 43, 47, 54, 66, 74, 89, 12,\n",
    "      44, 1, 2, 3, 4, 5, 9, 8, 7, 6, 5]\n",
    " \n",
    "ys = [0, 1, 2, 3, 4, 5, 6, 7, 8, 9, 6, 3,\n",
    "      5, 2, 4, 1, 8, 7, 0, 5]\n",
    " \n",
    "zs = [9, 6, 3, 5, 2, 4, 1, 8, 7, 0, 1, 2, \n",
    "      3, 4, 5, 6, 7, 8, 9, 0]\n",
    " \n",
    "# creating figure\n",
    "fig = plt.figure()\n",
    "ax = Axes3D(fig)\n",
    " \n",
    "# creating the plot\n",
    "plot_geeks = ax.scatter(xs, ys, zs, color='green')\n",
    " \n",
    "# setting title and labels\n",
    "ax.set_title(\"3D plot\")\n",
    "ax.set_xlabel('x-axis')\n",
    "ax.set_ylabel('y-axis')\n",
    "ax.set_zlabel('z-axis')\n",
    " \n",
    "# displaying the plot\n",
    "plt.show()"
   ]
  },
  {
   "cell_type": "code",
   "execution_count": null,
   "outputs": [],
   "source": [],
   "metadata": {
    "collapsed": false
   },
   "id": "5ac257e010d1f7ed"
  }
 ],
 "metadata": {
  "kernelspec": {
   "display_name": "Python 3",
   "language": "python",
   "name": "python3"
  },
  "language_info": {
   "codemirror_mode": {
    "name": "ipython",
    "version": 2
   },
   "file_extension": ".py",
   "mimetype": "text/x-python",
   "name": "python",
   "nbconvert_exporter": "python",
   "pygments_lexer": "ipython2",
   "version": "2.7.6"
  }
 },
 "nbformat": 4,
 "nbformat_minor": 5
}
