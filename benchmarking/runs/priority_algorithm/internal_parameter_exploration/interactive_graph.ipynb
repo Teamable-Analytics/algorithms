{
 "cells": [
  {
   "cell_type": "code",
   "execution_count": null,
   "id": "initial_id",
   "metadata": {
    "is_executing": true
   },
   "outputs": [],
   "source": [
    "from benchmarking.runs.priority_algorithm.internal_parameter_exploration.projects_run import (\n",
    "    RegularClassSize,\n",
    ")\n",
    "from benchmarking.runs.priority_algorithm.internal_parameter_exploration.five_diversity_constraint import (\n",
    "    FiveDiversityConstraint,\n",
    ")\n",
    "\n",
    "%matplotlib widget\n",
    "\n",
    "FiveDiversityConstraint().start()\n",
    "# RegularClassSize().start()"
   ]
  }
 ],
 "metadata": {
  "kernelspec": {
   "display_name": "Python 3 (ipykernel)",
   "language": "python",
   "name": "python3"
  },
  "language_info": {
   "codemirror_mode": {
    "name": "ipython",
    "version": 3
   },
   "file_extension": ".py",
   "mimetype": "text/x-python",
   "name": "python",
   "nbconvert_exporter": "python",
   "pygments_lexer": "ipython3",
   "version": "3.8.10"
  }
 },
 "nbformat": 4,
 "nbformat_minor": 5
}
